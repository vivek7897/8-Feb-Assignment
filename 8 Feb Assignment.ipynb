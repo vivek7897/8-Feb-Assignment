{
 "cells": [
  {
   "cell_type": "code",
   "execution_count": null,
   "id": "76bcdc95-e712-430a-8ba4-a45603f9f717",
   "metadata": {},
   "outputs": [],
   "source": [
    "Q1. What is Abstraction in OOps? Explain with an example."
   ]
  },
  {
   "cell_type": "code",
   "execution_count": 1,
   "id": "b968e5cd-121f-489e-98c6-933b4c446786",
   "metadata": {},
   "outputs": [
    {
     "name": "stdout",
     "output_type": "stream",
     "text": [
      "The mileage is 30kmph\n",
      "The mileage is 27kmph \n",
      "The mileage is 25kmph \n",
      "The mileage is 24kmph \n"
     ]
    }
   ],
   "source": [
    "# ANSWER\n",
    "#Abstraction is used to hide the internal functionality of the function from the users. \n",
    "#The users only interact with the basic implementation of the function, but inner working is hidden.\n",
    "#User is familiar with that \"what function does\" but they don't know \"how it does.\"\n",
    "# Python program demonstrate  \n",
    "# abstract base class work   \n",
    "from abc import ABC, abstractmethod   \n",
    "class Car(ABC):   \n",
    "    def mileage(self):   \n",
    "        pass  \n",
    "  \n",
    "class Tesla(Car):   \n",
    "    def mileage(self):   \n",
    "        print(\"The mileage is 30kmph\")   \n",
    "class Suzuki(Car):   \n",
    "    def mileage(self):   \n",
    "        print(\"The mileage is 25kmph \")   \n",
    "class Duster(Car):   \n",
    "     def mileage(self):   \n",
    "          print(\"The mileage is 24kmph \")   \n",
    "  \n",
    "class Renault(Car):   \n",
    "    def mileage(self):   \n",
    "            print(\"The mileage is 27kmph \")   \n",
    "          \n",
    "# Driver code   \n",
    "t= Tesla ()   \n",
    "t.mileage()   \n",
    "  \n",
    "r = Renault()   \n",
    "r.mileage()   \n",
    "  \n",
    "s = Suzuki()   \n",
    "s.mileage()   \n",
    "d = Duster()   \n",
    "d.mileage()  "
   ]
  },
  {
   "cell_type": "code",
   "execution_count": null,
   "id": "c6cf4213-7df7-4905-801a-a0ea3c5ccc6d",
   "metadata": {},
   "outputs": [],
   "source": [
    "Q2. Differentiate between Abstraction and Encapsulation. Explain with an example."
   ]
  },
  {
   "cell_type": "code",
   "execution_count": null,
   "id": "821a921d-2cc6-4f32-9020-fd8aafacbc1d",
   "metadata": {},
   "outputs": [],
   "source": [
    "Abstraction and Encapsulation are two important concepts in object-oriented programming (OOP). \n",
    "They both involve hiding complexity and implementation details, but they have different objectives and mechanisms.\n",
    "\n",
    "Abstraction is the process of focusing on the essential features of an object and ignoring its non-essential or irrelevant details.\n",
    "It allows us to create a simplified representation of a complex system, which is easier to understand and use.\n",
    "Abstraction is achieved through the use of abstract classes or interfaces in OOP,\n",
    "which define the properties and methods that are common to a group of related objects. \n",
    "Concrete classes that implement these abstract classes or interfaces provide specific implementations for those properties and methods.\n",
    "\n",
    "Encapsulation, on the other hand, is the process of hiding the internal details of an object from the outside world,\n",
    "and restricting access to the object's data and methods to only authorized code.\n",
    "It provides a protective barrier that prevents external code from interfering with an object's internal state,\n",
    "and also prevents internal changes from affecting the behavior of external code. Encapsulation is achieved through the use of access modifiers\n",
    "(such as public, private, and protected) in OOP, which control the visibility and accessibility of a class's properties and methods.\n",
    "\n",
    "\n"
   ]
  },
  {
   "cell_type": "code",
   "execution_count": 2,
   "id": "be050f86-0955-4abb-a7a9-f0dc6a134215",
   "metadata": {},
   "outputs": [
    {
     "name": "stdout",
     "output_type": "stream",
     "text": [
      "78.5\n",
      "49\n",
      "1300\n",
      "123456789\n",
      "1300\n"
     ]
    }
   ],
   "source": [
    "# Example of Abstraction\n",
    "\n",
    "from abc import ABC, abstractmethod\n",
    "\n",
    "class Shape(ABC):\n",
    "    @abstractmethod\n",
    "    def area(self):\n",
    "        pass\n",
    "\n",
    "class Circle(Shape):\n",
    "    def __init__(self, radius):\n",
    "        self.radius = radius\n",
    "    \n",
    "    def area(self):\n",
    "        return 3.14 * self.radius ** 2\n",
    "\n",
    "class Square(Shape):\n",
    "    def __init__(self, side):\n",
    "        self.side = side\n",
    "    \n",
    "    def area(self):\n",
    "        return self.side ** 2\n",
    "\n",
    "\n",
    "c = Circle(5)\n",
    "s = Square(7)\n",
    "\n",
    "\n",
    "print(c.area())  \n",
    "print(s.area())  \n",
    "\n",
    "\n",
    "# Example of Encapsulation\n",
    "\n",
    "class BankAccount:\n",
    "    def __init__(self, account_number, balance):\n",
    "        self.account_number = account_number\n",
    "        self.balance = balance\n",
    "    \n",
    "    def deposit(self, amount):\n",
    "        self.balance += amount\n",
    "    \n",
    "    def withdraw(self, amount):\n",
    "        if amount > self.balance:\n",
    "            print(\"Insufficient balance!\")\n",
    "        else:\n",
    "            self.balance -= amount\n",
    "    \n",
    "    def get_balance(self):\n",
    "        return self.balance\n",
    "\n",
    "\n",
    "acct = BankAccount(\"123456789\", 1000)\n",
    "acct.deposit(500)\n",
    "acct.withdraw(200)\n",
    "print(acct.get_balance())  \n",
    "\n",
    "print(acct.account_number)  \n",
    "print(acct.balance)  \n"
   ]
  },
  {
   "cell_type": "code",
   "execution_count": null,
   "id": "3f3ed836-6a10-461b-97df-f88b80d691c4",
   "metadata": {},
   "outputs": [],
   "source": [
    "Q. what is the abc module in python? why is it used?"
   ]
  },
  {
   "cell_type": "code",
   "execution_count": null,
   "id": "6e25318e-0634-4590-8ea3-e9184f1c700d",
   "metadata": {},
   "outputs": [],
   "source": [
    "The abc module in Python stands for \"Abstract Base Classes\".\n",
    "It provides a way to define abstract classes in Python,\n",
    "which are classes that cannot be instantiated directly but are meant to serve as a blueprint for other classes.\n",
    "\n",
    "The abc module is used to define abstract base classes and to perform type checking for classes that inherit from those abstract base classes. \n",
    "By defining abstract base classes, you can specify a set of methods that must be implemented by any class that inherits from the abstract base class.\n",
    "This allows you to enforce a certain interface for a group of related classes, which can make your code more robust and easier to maintain.\n",
    "\n",
    "For example, suppose you are creating a set of classes to represent different types of animals. \n",
    "You could define an abstract base class called Animal that specifies a set of methods that must be implemented by any subclass,\n",
    "such as eat(), sleep(), and make_sound().\n",
    "Then, you could define concrete classes like Cat and Dog that inherit from the Animal class and implement those methods in their own way.\n",
    "\n",
    "Overall, the abc module is a useful tool for creating well-structured and maintainable Python code,\n",
    "especially in larger projects or libraries where many classes need to work together in a consistent way."
   ]
  },
  {
   "cell_type": "code",
   "execution_count": null,
   "id": "3fe31651-2d80-46f3-a868-8061747c3a70",
   "metadata": {},
   "outputs": [],
   "source": [
    "Q4. How can we achieve data abstraction?"
   ]
  },
  {
   "cell_type": "code",
   "execution_count": null,
   "id": "fd987c43-a59e-4952-a1a6-3fad23bfe08b",
   "metadata": {},
   "outputs": [],
   "source": [
    "In Python, we can achieve data abstraction using classes and objects. \n",
    "Data abstraction is the concept of hiding complex implementation details from the user and providing a\n",
    "simplified interface to interact with the underlying functionality."
   ]
  },
  {
   "cell_type": "code",
   "execution_count": null,
   "id": "45ecda2e-726f-4146-9c00-ada2b0ac44ce",
   "metadata": {},
   "outputs": [],
   "source": [
    "Q5. Can we create an instance of an abstract class? Explain your answer."
   ]
  },
  {
   "cell_type": "code",
   "execution_count": null,
   "id": "153492af-6876-47cb-8c29-8748bb352b43",
   "metadata": {},
   "outputs": [],
   "source": [
    "No, we cannot create an instance of an abstract class in Python.\n",
    "\n",
    "An abstract class is a class that contains one or more abstract methods. \n",
    "An abstract method is a method that has a declaration but does not have an implementation. \n",
    "The purpose of an abstract class is to provide a template for its subclasses to follow. \n",
    "Subclasses of an abstract class must implement all the abstract methods of the parent class, and they can also add their own methods or attributes.\n",
    "\n",
    "Since abstract classes have abstract methods that are not implemented,\n",
    "they are incomplete and cannot be instantiated directly. Attempting to create an instance of an abstract class will result in a TypeError.\n",
    "\n",
    "However, we can create an instance of a concrete class that inherits from the abstract class and provides implementations for all the abstract methods. \n",
    "This concrete class can be instantiated like any other regular class."
   ]
  }
 ],
 "metadata": {
  "kernelspec": {
   "display_name": "Python 3 (ipykernel)",
   "language": "python",
   "name": "python3"
  },
  "language_info": {
   "codemirror_mode": {
    "name": "ipython",
    "version": 3
   },
   "file_extension": ".py",
   "mimetype": "text/x-python",
   "name": "python",
   "nbconvert_exporter": "python",
   "pygments_lexer": "ipython3",
   "version": "3.10.8"
  }
 },
 "nbformat": 4,
 "nbformat_minor": 5
}
